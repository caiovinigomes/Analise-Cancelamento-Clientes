{
 "cells": [
  {
   "cell_type": "markdown",
   "metadata": {},
   "source": [
    "# Python Insights - Análise de Cancelamento de Clientes\n",
    "\n",
    "Este projeto tem como objetivo analisar uma base de dados com mais de 800 mil registros de clientes, a fim de identificar padrões relacionados ao cancelamento de serviços. \n",
    "\n",
    "A análise busca responder perguntas como:\n",
    "- Quais são os principais fatores associados ao cancelamento?\n",
    "- Existem perfis de clientes com maior propensão ao churn?\n",
    "- Quais ações podem ser tomadas para reduzir a taxa de cancelamento?\n",
    "\n",
    "As etapas incluem exploração da base, tratamento de dados, visualização de métricas-chave e geração de insights para suporte à tomada de decisão estratégica."
   ]
  },
  {
   "cell_type": "markdown",
   "metadata": {},
   "source": [
    "### 🔍 Etapa 1 - Importação e Carregamento da Base de Dados\n",
    "\n",
    "Nesta primeira etapa, realizamos a importação das bibliotecas necessárias para análise, com destaque para o `pandas`, que será usado para manipulação dos dados.\n",
    "\n",
    "Em seguida, carregamos a base de dados `cancelamentos.csv` utilizando a função `read_csv()`. A coluna `CustomerID` é removida por não ser relevante para a análise, já que representa apenas um identificador único e não contribui com informações analíticas.\n",
    "\n",
    "Ao final, a base é exibida para verificação inicial dos dados disponíveis."
   ]
  },
  {
   "cell_type": "code",
   "execution_count": null,
   "metadata": {},
   "outputs": [],
   "source": [
    "# Etapa 1: Importação e carregamento da base de dados\n",
    "# !pip install pandas numpy openpyxl nbformat ipykernel plotly\n",
    "\n",
    "import pandas as pd\n",
    "\n",
    "# Carregando a base de dados\n",
    "tabela = pd.read_csv(\"cancelamentos.csv\")\n",
    "\n",
    "# Excluindo colunas desnecessárias para análise\n",
    "tabela = tabela.drop(columns=\"CustomerID\")\n",
    "\n",
    "# Visualizando a base de dados\n",
    "display(tabela)"
   ]
  },
  {
   "cell_type": "markdown",
   "metadata": {},
   "source": [
    "### 🧹 Etapa 2 - Tratamento de Dados\n",
    "\n",
    "Nesta etapa, é feita uma análise da estrutura da base de dados utilizando o método `.info()`, que permite visualizar o número de entradas, tipos de dados e a presença de valores nulos.\n",
    "\n",
    "Após a verificação, são removidas todas as linhas que contêm valores ausentes (`NaN`) com o método `dropna()`. Essa limpeza garante que apenas registros completos sejam utilizados nas análises subsequentes, evitando inconsistências nos resultados.\n",
    "\n",
    "Por fim, é feita uma nova inspeção com `.info()` para confirmar que os dados faltantes foram eliminados com sucesso."
   ]
  },
  {
   "cell_type": "code",
   "execution_count": null,
   "metadata": {},
   "outputs": [],
   "source": [
    "# Etapa 2: Tratamento de dados\n",
    "display(tabela.info())\n",
    "\n",
    "# Excluindo linhas que possuem valores vazios\n",
    "tabela = tabela.dropna()\n",
    "\n",
    "# Visualização para conferir a exclusão\n",
    "display(tabela.info())"
   ]
  },
  {
   "cell_type": "markdown",
   "metadata": {},
   "source": [
    "### 📊 Etapa 3 - Análise Inicial dos Cancelamentos\n",
    "\n",
    "Antes de aprofundar a análise, é importante entender a proporção de clientes que cancelaram o serviço.\n",
    "\n",
    "Nesta etapa, utilizamos o método `value_counts()` para contar quantos clientes cancelaram (`1`) e quantos permaneceram ativos (`0`). Em seguida, usamos o parâmetro `normalize=True` para obter os valores em percentual, facilitando a interpretação da taxa de cancelamento.\n",
    "\n",
    "Essas informações são fundamentais para termos uma noção geral do problema e da gravidade do churn na base analisada."
   ]
  },
  {
   "cell_type": "code",
   "execution_count": null,
   "metadata": {},
   "outputs": [],
   "source": [
    "# Etapa 3: Análise inicial dos cancelamentos\n",
    "\n",
    "# Contar quantas pessoas cancelaram e quantas não cancelaram\n",
    "display(tabela[\"cancelou\"].value_counts())\n",
    "\n",
    "# Mostrar em percentual %\n",
    "display(tabela[\"cancelou\"].value_counts(normalize=True))"
   ]
  },
  {
   "cell_type": "markdown",
   "metadata": {},
   "source": [
    "### 📈 Etapa 4 - Análise das Causas dos Cancelamentos\n",
    "\n",
    "Nesta etapa, o objetivo é identificar quais variáveis da base de dados possuem maior impacto na decisão dos clientes de cancelar o serviço.\n",
    "\n",
    "Utilizamos a biblioteca `plotly.express` para gerar **gráficos interativos de histograma**, que mostram a distribuição dos valores de cada coluna segmentada por status de cancelamento.\n",
    "\n",
    "Para facilitar a interpretação dos gráficos:\n",
    "- Foi criado um **mapeamento de legenda** para a coluna `cancelou`, substituindo `0` por \"Clientes ativos\" e `1` por \"Clientes que cancelaram\".\n",
    "- As cores dos gráficos foram personalizadas com o `color_discrete_map`, destacando clientes ativos em **azul escuro** e cancelados em **vermelho**.\n",
    "\n",
    "Esses gráficos permitem identificar padrões visuais importantes entre características dos clientes (como tipo de contrato, número de ligações ao call center, dias de atraso, etc.) e sua propensão ao cancelamento, gerando insights valiosos para direcionar ações estratégicas."
   ]
  },
  {
   "cell_type": "code",
   "execution_count": null,
   "metadata": {},
   "outputs": [],
   "source": [
    "# Etapa 4: Análise das causas dos cancelamentos (como as colunas da base impactam no cancelamento)\n",
    "\n",
    "# !pip install plotly\n",
    "\n",
    "import plotly.express as px\n",
    "\n",
    "cor_mapa = {\n",
    "    'Clientes ativos': 'darkblue',\n",
    "    'Clientes que cancelaram': 'red'\n",
    "}\n",
    "\n",
    "mapeamento_legenda = {0: 'Clientes ativos', 1: 'Clientes que cancelaram'}\n",
    "\n",
    "tabela['cancelou_legenda'] = tabela['cancelou'].map(mapeamento_legenda)\n",
    "\n",
    "# criar o grafico\n",
    "for coluna in tabela.columns:\n",
    "    if coluna not in [\"cancelou\"]:\n",
    "        grafico = px.histogram(tabela, x=coluna, color=\"cancelou_legenda\", color_discrete_map = cor_mapa)\n",
    "    # exibir o grafico\n",
    "    grafico.show()"
   ]
  },
  {
   "cell_type": "markdown",
   "metadata": {},
   "source": [
    "### 💡 Etapa 5 - Geração de Insights e Propostas de Ação\n",
    "\n",
    "A partir da análise exploratória dos dados, foi possível identificar padrões claros relacionados ao cancelamento dos clientes. Com base nesses padrões, foram definidos três principais insights, acompanhados de sugestões práticas de ações:\n",
    "\n",
    "1. **Clientes com contrato mensal tendem a cancelar mais.**  \n",
    "   🔧 *Ação proposta:* Oferecer incentivos, como descontos, para migração para planos trimestrais ou anuais.\n",
    "\n",
    "2. **Clientes que entram em contato com o call center mais de 4 vezes estão mais propensos a cancelar.**  \n",
    "   🔧 *Ação proposta:* Implementar melhorias no atendimento para resolver problemas em até 3 ligações.\n",
    "\n",
    "3. **Clientes com mais de 20 dias de atraso no pagamento apresentam alto índice de cancelamento.**  \n",
    "   🔧 *Ação proposta:* Criar políticas e campanhas para resolução de atrasos em até 10 dias, envolvendo a equipe financeira.\n",
    "\n",
    "Com base nesses três cenários, aplicamos filtros na base de dados para simular o impacto dessas ações. Após a filtragem, observamos novamente os dados da coluna `cancelou`, tanto em números absolutos quanto em percentual, a fim de avaliar a efetividade das estratégias sugeridas.\n",
    "\n",
    "Essa abordagem simula uma possível **redução da taxa de churn** ao atacar diretamente os principais fatores identificados."
   ]
  },
  {
   "cell_type": "code",
   "execution_count": null,
   "metadata": {},
   "outputs": [],
   "source": [
    "# Etapa 5: Geração de insights e propostas de ação\n",
    "\n",
    "# INSIGHTS\n",
    "#1. TODOS os clientes que possuem contrato Mensal cancelam\n",
    "    # Plano de ação: oferecer desconto nos planos anuais e trimestrais\n",
    "\n",
    "#2. Clientes que ligam MAIS DO QUE 4 VEZES para o call center, cancelam\n",
    "    # Plano de ação: Plano de melhoria para resolver o problema do cliente em no máximo 3 ligações\n",
    "\n",
    "#3. Clientes que atrasaram o pagamento por mais de 20 dias, cancelaram\n",
    "    # Rever política para resolver atrasos em até 10 dias (equipe financeira)\n",
    "\n",
    "# Mantendo apenas duração do contrato anual e trimestral, pois clientes com contrato Mensal tendem à cancelar.\n",
    "condicao = tabela[\"duracao_contrato\"] != \"Monthly\"\n",
    "tabela = tabela[condicao]\n",
    "\n",
    "# Mantendo apenas clientes que ligaram até 4 vezes, pois acima disso a chance de cancelamento aumenta.\n",
    "condicao = tabela[\"ligacoes_callcenter\"] <= 4\n",
    "tabela = tabela[condicao]\n",
    "\n",
    "# Mantendo apenas clientes com atraso até 20 dias, pois acima disso a chance de cancelamento aumenta.\n",
    "condicao = tabela[\"dias_atraso\"] <= 20\n",
    "tabela = tabela[condicao]\n",
    "\n",
    "# Resultado \n",
    "display(tabela[\"cancelou\"].value_counts())\n",
    "# em percentual %\n",
    "display(tabela[\"cancelou\"].value_counts(normalize=True))"
   ]
  },
  {
   "cell_type": "markdown",
   "metadata": {},
   "source": [
    "### 📉 Etapa 6 - Comparação da Taxa de Cancelamento: Antes vs. Depois\n",
    "\n",
    "Nesta etapa, comparamos a taxa de cancelamento **antes e depois da aplicação das ações estratégicas** definidas a partir dos insights obtidos na análise dos dados.\n",
    "\n",
    "As taxas são calculadas da seguinte forma:\n",
    "- **Antes das ações**: usando a base de dados original (apenas com limpeza básica).\n",
    "- **Depois das ações**: utilizando a base de dados com os filtros aplicados (clientes com plano mensal removidos, número excessivo de ligações e grandes atrasos no pagamento filtrados).\n",
    "\n",
    "As taxas são convertidas em percentual e exibidas lado a lado em um gráfico de barras. Isso permite visualizar de forma clara o impacto potencial das decisões tomadas na retenção de clientes.\n",
    "\n",
    "Essa comparação é fundamental para comunicar resultados de maneira objetiva e visual em projetos de dados."
   ]
  },
  {
   "cell_type": "code",
   "execution_count": null,
   "metadata": {},
   "outputs": [],
   "source": [
    "import plotly.graph_objects as go\n",
    "\n",
    "# Taxa de cancelamento ANTES das ações\n",
    "tabela_original = pd.read_csv(\"cancelamentos.csv\")\n",
    "tabela_original = tabela_original.drop(columns=\"CustomerID\")\n",
    "tabela_original = tabela_original.dropna()\n",
    "taxa_antes = tabela_original[\"cancelou\"].mean()\n",
    "\n",
    "# Taxa de cancelamento DEPOIS das ações já aplicadas (tabela filtrada)\n",
    "taxa_depois = tabela[\"cancelou\"].mean()\n",
    "\n",
    "# Converter as taxas para porcentagem\n",
    "taxa_antes_pct = round(taxa_antes * 100, 2)\n",
    "taxa_depois_pct = round(taxa_depois * 100, 2)\n",
    "\n",
    "# Gerar gráfico de comparação\n",
    "fig = go.Figure(data=[\n",
    "    go.Bar(name='Antes das Ações', x=['Taxa de Cancelamento'], y=[taxa_antes_pct], marker_color='red'),\n",
    "    go.Bar(name='Após as Ações', x=['Taxa de Cancelamento'], y=[taxa_depois_pct], marker_color='darkblue')\n",
    "])\n",
    "fig.update_layout(\n",
    "    title=\n",
    "        {\n",
    "        'text': 'Impacto das Ações na Taxa de Cancelamento',\n",
    "        'x': 0.5,  # Centraliza horizontalmente\n",
    "        'xanchor': 'center'\n",
    "        },\n",
    "    yaxis_title='Taxa de Cancelamento (%)',\n",
    "    barmode='group'\n",
    ")\n",
    "\n",
    "fig.show()\n",
    "\n",
    "# Para salvar a imagem do gráfico (Opcional)\n",
    "# !pip install -U kaleido\n",
    "# fig.write_image(\"grafico_taxa_cancelamento.png\")"
   ]
  },
  {
   "cell_type": "markdown",
   "metadata": {},
   "source": [
    "### ✅ Conclusão\n",
    "\n",
    "Com base na análise realizada, foi possível identificar fatores-chave associados ao cancelamento de clientes, como tipo de contrato, frequência de contato com o suporte e atrasos no pagamento. \n",
    "\n",
    "Após aplicar filtros simulando ações estratégicas, a taxa de cancelamento caiu de **56.71% para 18.4%**, o que demonstra que medidas simples podem ter um impacto significativo na retenção de clientes.\n",
    "\n",
    "Como próximos passos, seria interessante:\n",
    "- Criar um modelo preditivo de churn.\n",
    "- Automatizar alertas para clientes em risco.\n",
    "- Implementar dashboards dinâmicos para acompanhamento em tempo real."
   ]
  }
 ],
 "metadata": {
  "kernelspec": {
   "display_name": "Python 3",
   "language": "python",
   "name": "python3"
  },
  "language_info": {
   "codemirror_mode": {
    "name": "ipython",
    "version": 3
   },
   "file_extension": ".py",
   "mimetype": "text/x-python",
   "name": "python",
   "nbconvert_exporter": "python",
   "pygments_lexer": "ipython3",
   "version": "3.12.6"
  },
  "orig_nbformat": 4
 },
 "nbformat": 4,
 "nbformat_minor": 2
}
